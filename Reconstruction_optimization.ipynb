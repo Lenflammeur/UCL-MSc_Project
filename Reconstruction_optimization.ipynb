{
 "cells": [
  {
   "cell_type": "code",
   "execution_count": null,
   "metadata": {},
   "outputs": [],
   "source": [
    "import numpy as np\n",
    "from scipy.optimize import minimize "
   ]
  }
 ],
 "metadata": {
  "kernelspec": {
   "display_name": "Python 3.7.4 64-bit",
   "language": "python",
   "name": "python3"
  },
  "language_info": {
   "name": "python",
   "version": "3.7.4"
  },
  "orig_nbformat": 4,
  "vscode": {
   "interpreter": {
    "hash": "3d6c8a90009f980302c012bd64503e966cbb5885067e3c60305a8569cc587575"
   }
  }
 },
 "nbformat": 4,
 "nbformat_minor": 2
}
