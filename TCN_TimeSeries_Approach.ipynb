{
  "cells": [
    {
      "cell_type": "markdown",
      "metadata": {
        "colab_type": "text",
        "id": "view-in-github"
      },
      "source": [
        "<a href=\"https://colab.research.google.com/github/Lenflammeur/UCL-MSc_Project/blob/main/TCN_TimeSeries_Approach.ipynb\" target=\"_parent\"><img src=\"https://colab.research.google.com/assets/colab-badge.svg\" alt=\"Open In Colab\"/></a>"
      ]
    },
    {
      "cell_type": "markdown",
      "metadata": {
        "id": "rNmNWqlKa_8E"
      },
      "source": [
        "### Load Library"
      ]
    },
    {
      "cell_type": "code",
      "execution_count": 25,
      "metadata": {
        "colab": {
          "base_uri": "https://localhost:8080/",
          "height": 187
        },
        "id": "EEq6d7AUa9Wp",
        "outputId": "d490ea40-c639-45ef-9ce9-6071e4247065"
      },
      "outputs": [],
      "source": [
        "import wget\n",
        "import matplotlib.pyplot as plt\n",
        "import numpy as np\n",
        "import pandas as pd\n",
        "from tensorflow.keras import Input, Model\n",
        "from tensorflow.keras.layers import Dense\n",
        "from tqdm.notebook import tqdm\n",
        "import tensorflow as tf\n",
        "\n",
        "from tcn import TCN"
      ]
    },
    {
      "cell_type": "code",
      "execution_count": 2,
      "metadata": {
        "colab": {
          "base_uri": "https://localhost:8080/",
          "height": 35
        },
        "id": "rHIVSlGTbWgU",
        "outputId": "48066cd3-9776-4ec0-92b4-6ca0c4e956a5"
      },
      "outputs": [
        {
          "data": {
            "text/plain": [
              "'monthly-milk-production-pounds-p.csv'"
            ]
          },
          "execution_count": 2,
          "metadata": {},
          "output_type": "execute_result"
        }
      ],
      "source": [
        "wget.download(\"https://github.com/philipperemy/keras-tcn/raw/master/tasks/monthly-milk-production-pounds-p.csv\")"
      ]
    },
    {
      "cell_type": "markdown",
      "metadata": {
        "id": "UMr5G8xhcCxj"
      },
      "source": [
        "### Read the dataset"
      ]
    },
    {
      "cell_type": "code",
      "execution_count": 3,
      "metadata": {
        "id": "Rf8_Eyn9ba2y"
      },
      "outputs": [],
      "source": [
        "milk = pd.read_csv('monthly-milk-production-pounds-p.csv', index_col=0, parse_dates=True)"
      ]
    },
    {
      "cell_type": "markdown",
      "metadata": {
        "id": "SUK__zQQcJhk"
      },
      "source": [
        "### Display top5 Record"
      ]
    },
    {
      "cell_type": "code",
      "execution_count": 4,
      "metadata": {
        "colab": {
          "base_uri": "https://localhost:8080/",
          "height": 252
        },
        "id": "kJmbRdavcFJb",
        "outputId": "6f47e2e8-b5be-4b8f-c16a-3ed800c21462"
      },
      "outputs": [
        {
          "name": "stdout",
          "output_type": "stream",
          "text": [
            "(168, 1)\n"
          ]
        },
        {
          "data": {
            "text/html": [
              "<div>\n",
              "<style scoped>\n",
              "    .dataframe tbody tr th:only-of-type {\n",
              "        vertical-align: middle;\n",
              "    }\n",
              "\n",
              "    .dataframe tbody tr th {\n",
              "        vertical-align: top;\n",
              "    }\n",
              "\n",
              "    .dataframe thead th {\n",
              "        text-align: right;\n",
              "    }\n",
              "</style>\n",
              "<table border=\"1\" class=\"dataframe\">\n",
              "  <thead>\n",
              "    <tr style=\"text-align: right;\">\n",
              "      <th></th>\n",
              "      <th>milk_production_pounds</th>\n",
              "    </tr>\n",
              "    <tr>\n",
              "      <th>month</th>\n",
              "      <th></th>\n",
              "    </tr>\n",
              "  </thead>\n",
              "  <tbody>\n",
              "    <tr>\n",
              "      <th>1962-01-01</th>\n",
              "      <td>589</td>\n",
              "    </tr>\n",
              "    <tr>\n",
              "      <th>1962-02-01</th>\n",
              "      <td>561</td>\n",
              "    </tr>\n",
              "    <tr>\n",
              "      <th>1962-03-01</th>\n",
              "      <td>640</td>\n",
              "    </tr>\n",
              "    <tr>\n",
              "      <th>1962-04-01</th>\n",
              "      <td>656</td>\n",
              "    </tr>\n",
              "    <tr>\n",
              "      <th>1962-05-01</th>\n",
              "      <td>727</td>\n",
              "    </tr>\n",
              "  </tbody>\n",
              "</table>\n",
              "</div>"
            ],
            "text/plain": [
              "            milk_production_pounds\n",
              "month                             \n",
              "1962-01-01                     589\n",
              "1962-02-01                     561\n",
              "1962-03-01                     640\n",
              "1962-04-01                     656\n",
              "1962-05-01                     727"
            ]
          },
          "execution_count": 4,
          "metadata": {},
          "output_type": "execute_result"
        }
      ],
      "source": [
        "print(milk.shape)\n",
        "milk.head()"
      ]
    },
    {
      "cell_type": "markdown",
      "metadata": {
        "id": "OxtoyYB_cPJR"
      },
      "source": [
        "### Lookback 12 month windows"
      ]
    },
    {
      "cell_type": "code",
      "execution_count": 5,
      "metadata": {
        "id": "I8TY8aTQcIR4"
      },
      "outputs": [],
      "source": [
        "lookback_window = 12 "
      ]
    },
    {
      "cell_type": "markdown",
      "metadata": {
        "id": "zDy7WxEtcV96"
      },
      "source": [
        "### Convert Milk Data into Numpy Array"
      ]
    },
    {
      "cell_type": "code",
      "execution_count": 6,
      "metadata": {
        "id": "GOV5KuwJcR3Z"
      },
      "outputs": [],
      "source": [
        "milk = milk.values  "
      ]
    },
    {
      "cell_type": "markdown",
      "metadata": {
        "id": "xTd4_RAhcf_G"
      },
      "source": [
        "### Convert in to X, y format"
      ]
    },
    {
      "cell_type": "code",
      "execution_count": 7,
      "metadata": {
        "colab": {
          "base_uri": "https://localhost:8080/",
          "height": 66,
          "referenced_widgets": [
            "f2df124fb46a42d9a8011c589d478eee",
            "76367dff33c247d88f1c2240be90a0d7",
            "d3193b57a3fd4706bc6dc19aa65b71e1",
            "2e09e1b207e840bca57333c9d7ac6117",
            "e18cae27f2d5475e890a64a948429557",
            "bebf5d0c2d3042f8be7fec73ed15af54",
            "7f5c424416da4871aba7a7c3ad14d68c",
            "498b6f8b6789463887b4b3a6f237d924"
          ]
        },
        "id": "QRHxD8-vcZua",
        "outputId": "fe102cc0-2b28-4e6e-efb1-c701ec8f0964"
      },
      "outputs": [
        {
          "data": {
            "application/vnd.jupyter.widget-view+json": {
              "model_id": "885f88032855476a9c8aef1023fed893",
              "version_major": 2,
              "version_minor": 0
            },
            "text/plain": [
              "  0%|          | 0/156 [00:00<?, ?it/s]"
            ]
          },
          "metadata": {},
          "output_type": "display_data"
        }
      ],
      "source": [
        "x = []\n",
        "y = []\n",
        "for i in tqdm(range(lookback_window, len(milk))):\n",
        "    x.append(milk[i - lookback_window:i])\n",
        "    y.append(milk[i])"
      ]
    },
    {
      "cell_type": "markdown",
      "metadata": {
        "id": "h6NKNRpUdU0e"
      },
      "source": [
        "### Generate Array of list x and y"
      ]
    },
    {
      "cell_type": "code",
      "execution_count": 8,
      "metadata": {
        "colab": {
          "base_uri": "https://localhost:8080/",
          "height": 51
        },
        "id": "B3xGy8bec9Q5",
        "outputId": "1fd1af26-ee70-40ef-d3c6-3b060253f1c0"
      },
      "outputs": [
        {
          "name": "stdout",
          "output_type": "stream",
          "text": [
            "(156, 12, 1)\n",
            "(156, 1)\n"
          ]
        }
      ],
      "source": [
        "x = np.array(x)\n",
        "y = np.array(y)\n",
        "print(x.shape)\n",
        "print(y.shape)"
      ]
    },
    {
      "cell_type": "markdown",
      "metadata": {
        "id": "3dqsLFT4dk7s"
      },
      "source": [
        "### Model Design"
      ]
    },
    {
      "cell_type": "code",
      "execution_count": 44,
      "metadata": {
        "colab": {
          "base_uri": "https://localhost:8080/",
          "height": 255
        },
        "id": "y783wDIxdeke",
        "outputId": "26fb6222-a92a-498c-dda1-2421ad9ea5c8"
      },
      "outputs": [
        {
          "name": "stdout",
          "output_type": "stream",
          "text": [
            "Model: \"model_6\"\n",
            "_________________________________________________________________\n",
            "Layer (type)                 Output Shape              Param #   \n",
            "=================================================================\n",
            "input_25 (InputLayer)        [(None, 12, 1)]           0         \n",
            "_________________________________________________________________\n",
            "tcn_6 (TCN)                  (None, 64)                136256    \n",
            "_________________________________________________________________\n",
            "dense_6 (Dense)              (None, 1)                 65        \n",
            "=================================================================\n",
            "Total params: 136,321\n",
            "Trainable params: 136,321\n",
            "Non-trainable params: 0\n",
            "_________________________________________________________________\n"
          ]
        }
      ],
      "source": [
        "i = Input(shape=(lookback_window, 1))\n",
        "m = TCN()(i)\n",
        "m = Dense(1, activation='linear')(m)\n",
        "\n",
        "model = Model(inputs=[i], outputs=[m])\n",
        "model.summary()"
      ]
    },
    {
      "cell_type": "code",
      "execution_count": 36,
      "metadata": {
        "id": "Fsv10DsLdtKy"
      },
      "outputs": [],
      "source": [
        "model.compile('adam','mae')"
      ]
    },
    {
      "cell_type": "markdown",
      "metadata": {
        "id": "UjY_u3rid3m0"
      },
      "source": [
        "### Time for Model training..."
      ]
    },
    {
      "cell_type": "code",
      "execution_count": 37,
      "metadata": {
        "colab": {
          "base_uri": "https://localhost:8080/",
          "height": 1000
        },
        "id": "rfU_56-zd0eC",
        "outputId": "956257c6-9c51-4c3d-b007-752b10849ac9"
      },
      "outputs": [
        {
          "name": "stdout",
          "output_type": "stream",
          "text": [
            "Train...\n",
            "Epoch 1/100\n",
            "5/5 [==============================] - 3s 17ms/step - loss: 5171.7063\n",
            "Epoch 2/100\n",
            "5/5 [==============================] - 0s 18ms/step - loss: 1048.6255\n",
            "Epoch 3/100\n",
            "5/5 [==============================] - 0s 17ms/step - loss: 356.5305\n",
            "Epoch 4/100\n",
            "5/5 [==============================] - 0s 19ms/step - loss: 538.0238\n",
            "Epoch 5/100\n",
            "5/5 [==============================] - 0s 17ms/step - loss: 227.6653\n",
            "Epoch 6/100\n",
            "5/5 [==============================] - 0s 18ms/step - loss: 156.1743\n",
            "Epoch 7/100\n",
            "5/5 [==============================] - 0s 18ms/step - loss: 160.2109\n",
            "Epoch 8/100\n",
            "5/5 [==============================] - 0s 18ms/step - loss: 104.9422\n",
            "Epoch 9/100\n",
            "5/5 [==============================] - 0s 16ms/step - loss: 176.1735\n",
            "Epoch 10/100\n",
            "5/5 [==============================] - 0s 18ms/step - loss: 145.5191\n",
            "Epoch 11/100\n",
            "5/5 [==============================] - 0s 16ms/step - loss: 140.8532\n",
            "Epoch 12/100\n",
            "5/5 [==============================] - 0s 16ms/step - loss: 137.3899\n",
            "Epoch 13/100\n",
            "5/5 [==============================] - 0s 17ms/step - loss: 130.1798\n",
            "Epoch 14/100\n",
            "5/5 [==============================] - 0s 17ms/step - loss: 107.7181\n",
            "Epoch 15/100\n",
            "5/5 [==============================] - 0s 15ms/step - loss: 90.0230\n",
            "Epoch 16/100\n",
            "5/5 [==============================] - 0s 17ms/step - loss: 122.3618\n",
            "Epoch 17/100\n",
            "5/5 [==============================] - 0s 18ms/step - loss: 113.6327\n",
            "Epoch 18/100\n",
            "5/5 [==============================] - 0s 17ms/step - loss: 112.4635\n",
            "Epoch 19/100\n",
            "5/5 [==============================] - 0s 17ms/step - loss: 123.2867\n",
            "Epoch 20/100\n",
            "5/5 [==============================] - 0s 17ms/step - loss: 98.8566\n",
            "Epoch 21/100\n",
            "5/5 [==============================] - 0s 17ms/step - loss: 108.0254\n",
            "Epoch 22/100\n",
            "5/5 [==============================] - 0s 18ms/step - loss: 55.5494\n",
            "Epoch 23/100\n",
            "5/5 [==============================] - 0s 30ms/step - loss: 117.7930\n",
            "Epoch 24/100\n",
            "5/5 [==============================] - 0s 16ms/step - loss: 136.8407\n",
            "Epoch 25/100\n",
            "5/5 [==============================] - 0s 20ms/step - loss: 249.3376\n",
            "Epoch 26/100\n",
            "5/5 [==============================] - 0s 15ms/step - loss: 159.6983\n",
            "Epoch 27/100\n",
            "5/5 [==============================] - 0s 16ms/step - loss: 119.4975\n",
            "Epoch 28/100\n",
            "5/5 [==============================] - 0s 16ms/step - loss: 98.9581\n",
            "Epoch 29/100\n",
            "5/5 [==============================] - 0s 17ms/step - loss: 94.4980\n",
            "Epoch 30/100\n",
            "5/5 [==============================] - 0s 16ms/step - loss: 89.7655\n",
            "Epoch 31/100\n",
            "5/5 [==============================] - 0s 16ms/step - loss: 88.0799\n",
            "Epoch 32/100\n",
            "5/5 [==============================] - 0s 17ms/step - loss: 92.1221\n",
            "Epoch 33/100\n",
            "5/5 [==============================] - 0s 16ms/step - loss: 90.6522\n",
            "Epoch 34/100\n",
            "5/5 [==============================] - 0s 17ms/step - loss: 85.7149\n",
            "Epoch 35/100\n",
            "5/5 [==============================] - 0s 16ms/step - loss: 100.0643\n",
            "Epoch 36/100\n",
            "5/5 [==============================] - 0s 19ms/step - loss: 75.1674\n",
            "Epoch 37/100\n",
            "5/5 [==============================] - 0s 17ms/step - loss: 88.2560\n",
            "Epoch 38/100\n",
            "5/5 [==============================] - 0s 17ms/step - loss: 72.2618\n",
            "Epoch 39/100\n",
            "5/5 [==============================] - 0s 16ms/step - loss: 42.6560\n",
            "Epoch 40/100\n",
            "5/5 [==============================] - 0s 16ms/step - loss: 47.6968\n",
            "Epoch 41/100\n",
            "5/5 [==============================] - 0s 16ms/step - loss: 41.2504\n",
            "Epoch 42/100\n",
            "5/5 [==============================] - 0s 17ms/step - loss: 35.6767\n",
            "Epoch 43/100\n",
            "5/5 [==============================] - 0s 17ms/step - loss: 54.1675\n",
            "Epoch 44/100\n",
            "5/5 [==============================] - 0s 16ms/step - loss: 30.9231\n",
            "Epoch 45/100\n",
            "5/5 [==============================] - 0s 17ms/step - loss: 40.0026\n",
            "Epoch 46/100\n",
            "5/5 [==============================] - 0s 16ms/step - loss: 42.1232\n",
            "Epoch 47/100\n",
            "5/5 [==============================] - 0s 18ms/step - loss: 42.1899\n",
            "Epoch 48/100\n",
            "5/5 [==============================] - 0s 16ms/step - loss: 53.7127\n",
            "Epoch 49/100\n",
            "5/5 [==============================] - 0s 16ms/step - loss: 159.3470\n",
            "Epoch 50/100\n",
            "5/5 [==============================] - 0s 17ms/step - loss: 137.4441\n",
            "Epoch 51/100\n",
            "5/5 [==============================] - 0s 17ms/step - loss: 182.2008\n",
            "Epoch 52/100\n",
            "5/5 [==============================] - 0s 18ms/step - loss: 80.7521\n",
            "Epoch 53/100\n",
            "5/5 [==============================] - 0s 17ms/step - loss: 60.7655\n",
            "Epoch 54/100\n",
            "5/5 [==============================] - 0s 16ms/step - loss: 156.1516\n",
            "Epoch 55/100\n",
            "5/5 [==============================] - 0s 17ms/step - loss: 98.6845\n",
            "Epoch 56/100\n",
            "5/5 [==============================] - 0s 17ms/step - loss: 125.0412\n",
            "Epoch 57/100\n",
            "5/5 [==============================] - 0s 16ms/step - loss: 155.0485\n",
            "Epoch 58/100\n",
            "5/5 [==============================] - 0s 16ms/step - loss: 152.9228\n",
            "Epoch 59/100\n",
            "5/5 [==============================] - 0s 17ms/step - loss: 104.7630\n",
            "Epoch 60/100\n",
            "5/5 [==============================] - 0s 17ms/step - loss: 70.6734\n",
            "Epoch 61/100\n",
            "5/5 [==============================] - 0s 17ms/step - loss: 47.6673\n",
            "Epoch 62/100\n",
            "5/5 [==============================] - 0s 19ms/step - loss: 89.8377\n",
            "Epoch 63/100\n",
            "5/5 [==============================] - 0s 19ms/step - loss: 47.7116\n",
            "Epoch 64/100\n",
            "5/5 [==============================] - 0s 17ms/step - loss: 46.2935\n",
            "Epoch 65/100\n",
            "5/5 [==============================] - 0s 17ms/step - loss: 23.9359\n",
            "Epoch 66/100\n",
            "5/5 [==============================] - 0s 17ms/step - loss: 41.9360\n",
            "Epoch 67/100\n",
            "5/5 [==============================] - 0s 16ms/step - loss: 27.6851\n",
            "Epoch 68/100\n",
            "5/5 [==============================] - 0s 17ms/step - loss: 52.2299\n",
            "Epoch 69/100\n",
            "5/5 [==============================] - 0s 17ms/step - loss: 119.7080\n",
            "Epoch 70/100\n",
            "5/5 [==============================] - 0s 15ms/step - loss: 148.1566\n",
            "Epoch 71/100\n",
            "5/5 [==============================] - 0s 17ms/step - loss: 96.3220\n",
            "Epoch 72/100\n",
            "5/5 [==============================] - 0s 16ms/step - loss: 147.1300\n",
            "Epoch 73/100\n",
            "5/5 [==============================] - 0s 17ms/step - loss: 79.7160\n",
            "Epoch 74/100\n",
            "5/5 [==============================] - 0s 15ms/step - loss: 193.1388\n",
            "Epoch 75/100\n",
            "5/5 [==============================] - 0s 16ms/step - loss: 259.4763\n",
            "Epoch 76/100\n",
            "5/5 [==============================] - 0s 18ms/step - loss: 85.3502\n",
            "Epoch 77/100\n",
            "5/5 [==============================] - 0s 16ms/step - loss: 56.1383\n",
            "Epoch 78/100\n",
            "5/5 [==============================] - 0s 16ms/step - loss: 45.2595\n",
            "Epoch 79/100\n",
            "5/5 [==============================] - 0s 17ms/step - loss: 21.4234\n",
            "Epoch 80/100\n",
            "5/5 [==============================] - 0s 15ms/step - loss: 56.4418\n",
            "Epoch 81/100\n",
            "5/5 [==============================] - 0s 17ms/step - loss: 55.7956\n",
            "Epoch 82/100\n",
            "5/5 [==============================] - 0s 16ms/step - loss: 52.6381\n",
            "Epoch 83/100\n",
            "5/5 [==============================] - 0s 17ms/step - loss: 56.1190\n",
            "Epoch 84/100\n",
            "5/5 [==============================] - 0s 16ms/step - loss: 68.0941\n",
            "Epoch 85/100\n",
            "5/5 [==============================] - 0s 17ms/step - loss: 64.6322\n",
            "Epoch 86/100\n",
            "5/5 [==============================] - 0s 15ms/step - loss: 55.1349\n",
            "Epoch 87/100\n",
            "5/5 [==============================] - 0s 16ms/step - loss: 60.4945\n",
            "Epoch 88/100\n",
            "5/5 [==============================] - 0s 18ms/step - loss: 51.3031\n",
            "Epoch 89/100\n",
            "5/5 [==============================] - 0s 15ms/step - loss: 46.9759\n",
            "Epoch 90/100\n",
            "5/5 [==============================] - 0s 16ms/step - loss: 58.1565\n",
            "Epoch 91/100\n",
            "5/5 [==============================] - 0s 17ms/step - loss: 31.5160\n",
            "Epoch 92/100\n",
            "5/5 [==============================] - 0s 17ms/step - loss: 73.9171\n",
            "Epoch 93/100\n",
            "5/5 [==============================] - 0s 17ms/step - loss: 123.4958\n",
            "Epoch 94/100\n",
            "5/5 [==============================] - 0s 17ms/step - loss: 66.6866\n",
            "Epoch 95/100\n",
            "5/5 [==============================] - 0s 16ms/step - loss: 41.5311\n",
            "Epoch 96/100\n",
            "5/5 [==============================] - 0s 17ms/step - loss: 33.3059\n",
            "Epoch 97/100\n",
            "5/5 [==============================] - 0s 18ms/step - loss: 94.5981\n",
            "Epoch 98/100\n",
            "5/5 [==============================] - 0s 16ms/step - loss: 97.7227\n",
            "Epoch 99/100\n",
            "5/5 [==============================] - 0s 17ms/step - loss: 78.9477\n",
            "Epoch 100/100\n",
            "5/5 [==============================] - 0s 17ms/step - loss: 96.9381\n"
          ]
        },
        {
          "data": {
            "text/plain": [
              "<tensorflow.python.keras.callbacks.History at 0x1e804948c48>"
            ]
          },
          "execution_count": 37,
          "metadata": {},
          "output_type": "execute_result"
        }
      ],
      "source": [
        "print('Train...')\n",
        "model.fit(x, y, epochs=100)"
      ]
    },
    {
      "cell_type": "markdown",
      "metadata": {
        "id": "CDtjBtPQf1pd"
      },
      "source": [
        "### Prediction with TCN Model"
      ]
    },
    {
      "cell_type": "code",
      "execution_count": 38,
      "metadata": {
        "id": "SMEjd-8Gd-VK"
      },
      "outputs": [],
      "source": [
        "predict = model.predict(x)"
      ]
    },
    {
      "cell_type": "markdown",
      "metadata": {
        "id": "i-7DoomPf5ak"
      },
      "source": [
        "### Plot the Result"
      ]
    },
    {
      "cell_type": "code",
      "execution_count": 39,
      "metadata": {
        "colab": {
          "base_uri": "https://localhost:8080/",
          "height": 500
        },
        "id": "x9EpeosteOkK",
        "outputId": "0df79df5-6d18-4fa6-ac7d-e78d57dd0381"
      },
      "outputs": [
        {
          "data": {
            "image/png": "[encoded data removed]",
            "text/plain": [
              "<Figure size 1080x504 with 1 Axes>"
            ]
          },
          "metadata": {},
          "output_type": "display_data"
        }
      ],
      "source": [
        "plt.style.use(\"fivethirtyeight\")\n",
        "plt.figure(figsize = (15,7))\n",
        "plt.plot(predict)\n",
        "plt.plot(y)\n",
        "plt.title('Monthly Milk Production (in pounds)')\n",
        "plt.legend(['predicted', 'actual'])\n",
        "plt.xlabel(\"Moths Counts\")\n",
        "plt.ylabel(\"Milk Production in Pounds\")\n",
        "plt.show()"
      ]
    },
    {
      "cell_type": "code",
      "execution_count": 54,
      "metadata": {},
      "outputs": [],
      "source": [
        "from tensorflow.keras.layers import UpSampling1D\n",
        "from tensorflow import keras"
      ]
    },
    {
      "cell_type": "code",
      "execution_count": 59,
      "metadata": {},
      "outputs": [],
      "source": [
        "model_inverse = keras.models.Sequential()\n",
        "model_inverse.add(keras.layers.InputLayer(input_shape=[1, 1]))\n",
        "model_inverse.add(keras.layers.UpSampling1D(64))\n",
        "model_inverse.add(TCN())\n",
        "model_inverse.add(keras.layers.Dense(12, activation='linear'))"
      ]
    },
    {
      "cell_type": "code",
      "execution_count": 60,
      "metadata": {},
      "outputs": [
        {
          "name": "stdout",
          "output_type": "stream",
          "text": [
            "Model: \"model_6\"\n",
            "_________________________________________________________________\n",
            "Layer (type)                 Output Shape              Param #   \n",
            "=================================================================\n",
            "input_25 (InputLayer)        [(None, 12, 1)]           0         \n",
            "_________________________________________________________________\n",
            "tcn_6 (TCN)                  (None, 64)                136256    \n",
            "_________________________________________________________________\n",
            "dense_6 (Dense)              (None, 1)                 65        \n",
            "=================================================================\n",
            "Total params: 136,321\n",
            "Trainable params: 136,321\n",
            "Non-trainable params: 0\n",
            "_________________________________________________________________\n"
          ]
        },
        {
          "data": {
            "image/png": "[encoded data removed]",
            "text/plain": [
              "<IPython.core.display.Image object>"
            ]
          },
          "execution_count": 60,
          "metadata": {},
          "output_type": "execute_result"
        }
      ],
      "source": [
        "model.summary()\n",
        "tf.keras.utils.plot_model(model, show_shapes=True)"
      ]
    }
  ],
  "metadata": {
    "colab": {
      "include_colab_link": true,
      "name": "TCN_TimeSeries Approach.ipynb",
      "provenance": [],
      "toc_visible": true
    },
    "kernelspec": {
      "display_name": "Python 3.7.4 64-bit",
      "language": "python",
      "name": "python3"
    },
    "language_info": {
      "codemirror_mode": {
        "name": "ipython",
        "version": 3
      },
      "file_extension": ".py",
      "mimetype": "text/x-python",
      "name": "python",
      "nbconvert_exporter": "python",
      "pygments_lexer": "ipython3",
      "version": "3.7.4"
    },
    "vscode": {
      "interpreter": {
        "hash": "3d6c8a90009f980302c012bd64503e966cbb5885067e3c60305a8569cc587575"
      }
    },
    "widgets": {
      "application/vnd.jupyter.widget-state+json": {
        "2e09e1b207e840bca57333c9d7ac6117": {
          "model_module": "@jupyter-widgets/controls",
          "model_module_version": "1.5.0",
          "model_name": "HTMLModel",
          "state": {
            "_dom_classes": [],
            "_model_module": "@jupyter-widgets/controls",
            "_model_module_version": "1.5.0",
            "_model_name": "HTMLModel",
            "_view_count": null,
            "_view_module": "@jupyter-widgets/controls",
            "_view_module_version": "1.5.0",
            "_view_name": "HTMLView",
            "description": "",
            "description_tooltip": null,
            "layout": "IPY_MODEL_498b6f8b6789463887b4b3a6f237d924",
            "placeholder": "​",
            "style": "IPY_MODEL_7f5c424416da4871aba7a7c3ad14d68c",
            "value": " 156/156 [03:57&lt;00:00,  1.53s/it]"
          }
        },
        "498b6f8b6789463887b4b3a6f237d924": {
          "model_module": "@jupyter-widgets/base",
          "model_module_version": "1.2.0",
          "model_name": "LayoutModel",
          "state": {
            "_model_module": "@jupyter-widgets/base",
            "_model_module_version": "1.2.0",
            "_model_name": "LayoutModel",
            "_view_count": null,
            "_view_module": "@jupyter-widgets/base",
            "_view_module_version": "1.2.0",
            "_view_name": "LayoutView",
            "align_content": null,
            "align_items": null,
            "align_self": null,
            "border": null,
            "bottom": null,
            "display": null,
            "flex": null,
            "flex_flow": null,
            "grid_area": null,
            "grid_auto_columns": null,
            "grid_auto_flow": null,
            "grid_auto_rows": null,
            "grid_column": null,
            "grid_gap": null,
            "grid_row": null,
            "grid_template_areas": null,
            "grid_template_columns": null,
            "grid_template_rows": null,
            "height": null,
            "justify_content": null,
            "justify_items": null,
            "left": null,
            "margin": null,
            "max_height": null,
            "max_width": null,
            "min_height": null,
            "min_width": null,
            "object_fit": null,
            "object_position": null,
            "order": null,
            "overflow": null,
            "overflow_x": null,
            "overflow_y": null,
            "padding": null,
            "right": null,
            "top": null,
            "visibility": null,
            "width": null
          }
        },
        "76367dff33c247d88f1c2240be90a0d7": {
          "model_module": "@jupyter-widgets/base",
          "model_module_version": "1.2.0",
          "model_name": "LayoutModel",
          "state": {
            "_model_module": "@jupyter-widgets/base",
            "_model_module_version": "1.2.0",
            "_model_name": "LayoutModel",
            "_view_count": null,
            "_view_module": "@jupyter-widgets/base",
            "_view_module_version": "1.2.0",
            "_view_name": "LayoutView",
            "align_content": null,
            "align_items": null,
            "align_self": null,
            "border": null,
            "bottom": null,
            "display": null,
            "flex": null,
            "flex_flow": null,
            "grid_area": null,
            "grid_auto_columns": null,
            "grid_auto_flow": null,
            "grid_auto_rows": null,
            "grid_column": null,
            "grid_gap": null,
            "grid_row": null,
            "grid_template_areas": null,
            "grid_template_columns": null,
            "grid_template_rows": null,
            "height": null,
            "justify_content": null,
            "justify_items": null,
            "left": null,
            "margin": null,
            "max_height": null,
            "max_width": null,
            "min_height": null,
            "min_width": null,
            "object_fit": null,
            "object_position": null,
            "order": null,
            "overflow": null,
            "overflow_x": null,
            "overflow_y": null,
            "padding": null,
            "right": null,
            "top": null,
            "visibility": null,
            "width": null
          }
        },
        "7f5c424416da4871aba7a7c3ad14d68c": {
          "model_module": "@jupyter-widgets/controls",
          "model_module_version": "1.5.0",
          "model_name": "DescriptionStyleModel",
          "state": {
            "_model_module": "@jupyter-widgets/controls",
            "_model_module_version": "1.5.0",
            "_model_name": "DescriptionStyleModel",
            "_view_count": null,
            "_view_module": "@jupyter-widgets/base",
            "_view_module_version": "1.2.0",
            "_view_name": "StyleView",
            "description_width": ""
          }
        },
        "bebf5d0c2d3042f8be7fec73ed15af54": {
          "model_module": "@jupyter-widgets/base",
          "model_module_version": "1.2.0",
          "model_name": "LayoutModel",
          "state": {
            "_model_module": "@jupyter-widgets/base",
            "_model_module_version": "1.2.0",
            "_model_name": "LayoutModel",
            "_view_count": null,
            "_view_module": "@jupyter-widgets/base",
            "_view_module_version": "1.2.0",
            "_view_name": "LayoutView",
            "align_content": null,
            "align_items": null,
            "align_self": null,
            "border": null,
            "bottom": null,
            "display": null,
            "flex": null,
            "flex_flow": null,
            "grid_area": null,
            "grid_auto_columns": null,
            "grid_auto_flow": null,
            "grid_auto_rows": null,
            "grid_column": null,
            "grid_gap": null,
            "grid_row": null,
            "grid_template_areas": null,
            "grid_template_columns": null,
            "grid_template_rows": null,
            "height": null,
            "justify_content": null,
            "justify_items": null,
            "left": null,
            "margin": null,
            "max_height": null,
            "max_width": null,
            "min_height": null,
            "min_width": null,
            "object_fit": null,
            "object_position": null,
            "order": null,
            "overflow": null,
            "overflow_x": null,
            "overflow_y": null,
            "padding": null,
            "right": null,
            "top": null,
            "visibility": null,
            "width": null
          }
        },
        "d3193b57a3fd4706bc6dc19aa65b71e1": {
          "model_module": "@jupyter-widgets/controls",
          "model_module_version": "1.5.0",
          "model_name": "FloatProgressModel",
          "state": {
            "_dom_classes": [],
            "_model_module": "@jupyter-widgets/controls",
            "_model_module_version": "1.5.0",
            "_model_name": "FloatProgressModel",
            "_view_count": null,
            "_view_module": "@jupyter-widgets/controls",
            "_view_module_version": "1.5.0",
            "_view_name": "ProgressView",
            "bar_style": "success",
            "description": "100%",
            "description_tooltip": null,
            "layout": "IPY_MODEL_bebf5d0c2d3042f8be7fec73ed15af54",
            "max": 156,
            "min": 0,
            "orientation": "horizontal",
            "style": "IPY_MODEL_e18cae27f2d5475e890a64a948429557",
            "value": 156
          }
        },
        "e18cae27f2d5475e890a64a948429557": {
          "model_module": "@jupyter-widgets/controls",
          "model_module_version": "1.5.0",
          "model_name": "ProgressStyleModel",
          "state": {
            "_model_module": "@jupyter-widgets/controls",
            "_model_module_version": "1.5.0",
            "_model_name": "ProgressStyleModel",
            "_view_count": null,
            "_view_module": "@jupyter-widgets/base",
            "_view_module_version": "1.2.0",
            "_view_name": "StyleView",
            "bar_color": null,
            "description_width": "initial"
          }
        },
        "f2df124fb46a42d9a8011c589d478eee": {
          "model_module": "@jupyter-widgets/controls",
          "model_module_version": "1.5.0",
          "model_name": "HBoxModel",
          "state": {
            "_dom_classes": [],
            "_model_module": "@jupyter-widgets/controls",
            "_model_module_version": "1.5.0",
            "_model_name": "HBoxModel",
            "_view_count": null,
            "_view_module": "@jupyter-widgets/controls",
            "_view_module_version": "1.5.0",
            "_view_name": "HBoxView",
            "box_style": "",
            "children": [
              "IPY_MODEL_d3193b57a3fd4706bc6dc19aa65b71e1",
              "IPY_MODEL_2e09e1b207e840bca57333c9d7ac6117"
            ],
            "layout": "IPY_MODEL_76367dff33c247d88f1c2240be90a0d7"
          }
        }
      }
    }
  },
  "nbformat": 4,
  "nbformat_minor": 0
}
